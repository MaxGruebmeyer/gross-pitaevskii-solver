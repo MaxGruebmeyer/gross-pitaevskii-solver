{
 "cells": [
  {
   "cell_type": "code",
   "execution_count": null,
   "id": "6c9bd218-5cff-4ae3-bbf5-4a7cffbb2afb",
   "metadata": {},
   "outputs": [],
   "source": [
    "import numpy as np\n",
    "from numpy.linalg import norm\n",
    "\n",
    "from scipy.sparse import diags, kron\n",
    "from scipy.sparse.linalg import spsolve\n",
    "from scipy.optimize import minimize_scalar\n",
    "\n",
    "import matplotlib.pyplot as plt\n",
    "import matplotlib.colors as mcolors"
   ]
  },
  {
   "cell_type": "code",
   "execution_count": null,
   "id": "3174c64f-94ee-4f9a-9c0e-f6c86a37638c",
   "metadata": {},
   "outputs": [],
   "source": [
    "from gpe_algorithms import inverse_iteration, dampened_inverse_iteration, shifted_inverse_iteration, calculate_energy\n",
    "from gpe_problem import get_L_M, get_M, A_v"
   ]
  },
  {
   "cell_type": "markdown",
   "id": "f2afad01-4d18-4787-8ce6-ad0e925de38c",
   "metadata": {},
   "source": [
    "# Plots"
   ]
  },
  {
   "cell_type": "markdown",
   "id": "4c4b7fa0-051b-4170-81b0-8afd915c40a3",
   "metadata": {},
   "source": [
    "## Parameters"
   ]
  },
  {
   "cell_type": "code",
   "execution_count": null,
   "id": "dbc16c39-6383-458a-9a7a-30e5d799dff0",
   "metadata": {},
   "outputs": [],
   "source": [
    "max_steps = 200\n",
    "tol = 1e-8\n",
    "bound = 8.\n",
    "steps = 200\n",
    "betas = np.array([1e-1, 1e0, 1e+1, 1e+2, 1e+3])"
   ]
  },
  {
   "cell_type": "markdown",
   "id": "352bb2c9-e672-4fc2-956d-87da6f34c1f1",
   "metadata": {},
   "source": [
    "## Precomputations"
   ]
  },
  {
   "cell_type": "code",
   "execution_count": null,
   "id": "e18459fe-6633-4b00-a767-f8e68d90d06f",
   "metadata": {},
   "outputs": [],
   "source": [
    "h = 2 * bound / steps\n",
    "h_inv_sq = 1 / (h * h)\n",
    "L_M = get_L_M(bound, steps, h_inv_sq)\n",
    "\n",
    "# Potential V. Needed seperately for dampening\n",
    "V = get_M(bound, steps)"
   ]
  },
  {
   "cell_type": "markdown",
   "id": "33df2608-1ab6-4853-83a2-3c24ebf2ab7f",
   "metadata": {},
   "source": [
    "## Helper methods for visualization"
   ]
  },
  {
   "cell_type": "code",
   "execution_count": null,
   "id": "bac548f5-0fa3-4b79-9d27-64033cf1e1a0",
   "metadata": {},
   "outputs": [],
   "source": [
    "def plot_result(axes, taken_steps, residuum, energy, diffs, beta, color, label=None):\n",
    "    \"\"\"\n",
    "    Plot the results of a successful iteration on a 2x2 axes grid.\n",
    "\n",
    "    Parameters\n",
    "    ----------\n",
    "    axes : ndarray of matplotlib.axes.Axes\n",
    "        2x2 array of axes for plotting.\n",
    "    taken_steps : int\n",
    "        Number of steps taken in the iteration.\n",
    "    residuum : ndarray\n",
    "        Residuum values at each step.\n",
    "    energy : ndarray\n",
    "        Energy values at each step.\n",
    "    diffs : ndarray\n",
    "        Norm differences between consecutive iterates.\n",
    "    beta : float\n",
    "        Nonlinearity parameter used (for labeling).\n",
    "    color : str\n",
    "        Color for the plots.\n",
    "    label : str, optional\n",
    "        Custom label for the legend; if None, defaults to `beta={beta}`.\n",
    "    \"\"\"\n",
    "    pt_range = np.arange(taken_steps)\n",
    "    # Only add label once\n",
    "    if label is None:\n",
    "        axes[0,0].plot(pt_range, residuum[:taken_steps], label=f\"beta={beta}\", c=color, marker='o')\n",
    "    else:\n",
    "        axes[0,0].plot(pt_range, residuum[:taken_steps], label=label, c=color, marker='o')\n",
    "\n",
    "    axes[0,1].plot(pt_range, diffs[:taken_steps], c=color, marker='o')\n",
    "    axes[1,0].plot(pt_range, energy[:taken_steps], c=color, marker='o')\n",
    "\n",
    "    pt_range = pt_range[:-1]\n",
    "    energy_diff = energy[:taken_steps-1] - energy[1:taken_steps]\n",
    "    axes[1,1].plot(pt_range, np.full_like(pt_range, 0), color='gray', linestyle='-.')\n",
    "    axes[1,1].plot(pt_range, energy_diff, c=color, marker='o')\n",
    "\n",
    "\n",
    "def plot_failed_result(axes, taken_steps, energy, diffs, beta, color):\n",
    "    \"\"\"\n",
    "    Plot the results of a failed iteration on a 2x2 axes grid (no residuum available).\n",
    "\n",
    "    Parameters\n",
    "    ----------\n",
    "    axes : ndarray of matplotlib.axes.Axes\n",
    "        2x2 array of axes for plotting.\n",
    "    taken_steps : int\n",
    "        Number of steps taken in the iteration.\n",
    "    energy : ndarray\n",
    "        Energy values at each step.\n",
    "    diffs : ndarray\n",
    "        Norm differences between consecutive iterates.\n",
    "    beta : float\n",
    "        Nonlinearity parameter used (for labeling).\n",
    "    color : str\n",
    "        Color for the plots.\n",
    "    \"\"\"\n",
    "    pt_range = np.arange(taken_steps)\n",
    "    \n",
    "    axes[0,1].plot(pt_range, diffs[:taken_steps], label=f\"beta={beta}\", c=color, marker='o')\n",
    "    axes[1,0].plot(pt_range, energy[:taken_steps], c=color, marker='o')\n",
    "\n",
    "    pt_range = pt_range[:-1]\n",
    "    energy_diff = energy[:taken_steps-1] - energy[1:taken_steps]\n",
    "    axes[1,1].plot(pt_range, np.full_like(pt_range, 0), color='gray', linestyle='-.')\n",
    "    axes[1,1].plot(pt_range, energy_diff, c=color, marker='o')\n",
    "\n",
    "\n",
    "def config_result_plot(fig, axes):\n",
    "    \"\"\"\n",
    "    Configure a 2x2 axes grid for plotting iteration results.\n",
    "\n",
    "    Sets log scales for x and/or y where appropriate, adds labels, and\n",
    "    attaches a figure legend.\n",
    "\n",
    "    Parameters\n",
    "    ----------\n",
    "    fig : matplotlib.figure.Figure\n",
    "        Figure object containing the axes.\n",
    "    axes : ndarray of matplotlib.axes.Axes\n",
    "        2x2 array of axes to configure.\n",
    "    \"\"\"\n",
    "    axes[0,0].set_yscale('log')\n",
    "    axes[0,0].set_xscale('log')\n",
    "    axes[0,0].set_ylabel('Residuum')\n",
    "    axes[0,0].set_xlabel('Steps')\n",
    "    \n",
    "    axes[0,1].set_yscale('log')\n",
    "    axes[0,1].set_xscale('log')\n",
    "    axes[0,1].set_ylabel('Differences $\\Vert u^n - u^{n-1} \\Vert$')\n",
    "    axes[0,1].set_xlabel('Steps')\n",
    "    \n",
    "    axes[1,0].set_yscale('linear')\n",
    "    axes[1,0].set_xscale('log')\n",
    "    axes[1,0].set_ylabel('Energy $E(u^n)$')\n",
    "    axes[1,0].set_xlabel('Steps')\n",
    "    \n",
    "    axes[1,1].set_yscale('linear')\n",
    "    axes[1,1].set_xscale('log')\n",
    "    axes[1,1].set_ylabel('Energy diff $E(u^{n-1}) - E(u^n)$')\n",
    "    axes[1,1].set_xlabel('Steps')\n",
    "    \n",
    "    fig.legend()"
   ]
  },
  {
   "cell_type": "markdown",
   "id": "6fdc3de3-d2dd-4f9e-92a8-c09d1bf20ca9",
   "metadata": {},
   "source": [
    "## Helper function to run the inverse iteration algorithms and remove duplicate code"
   ]
  },
  {
   "cell_type": "code",
   "execution_count": null,
   "id": "35a016dd-f5a0-4329-9dbd-bfa2b3d57ccf",
   "metadata": {},
   "outputs": [],
   "source": [
    "def run_algo(algo, file_name):\n",
    "    \"\"\"\n",
    "    Run an inverse iteration algorithm (normal, shifted, or dampened) for multiple beta values,\n",
    "    and plot the results on a 2x2 grid, saving the figure to `file_name`.\n",
    "\n",
    "    Parameters\n",
    "    ----------\n",
    "    algo : function\n",
    "        Iteration algorithm to run. Must accept the following parameters:\n",
    "        - A : lambda taking vector v and returning a sparse matrix\n",
    "        - calc_E : lambda taking vector v and returning energy\n",
    "        - dim : int, problem dimension\n",
    "        - max_steps : int, maximum iterations\n",
    "        - tol : float, convergence tolerance\n",
    "    file_name : str\n",
    "        Path to save the figure.\n",
    "    \"\"\"\n",
    "    colors = [\"darkgreen\", \"gold\", \"orange\", \"red\", \"darkred\"]\n",
    "\n",
    "    fig, axes = plt.subplots(2, 2, figsize=(12, 8))\n",
    "\n",
    "    for i, beta in enumerate(betas):\n",
    "        # Define matrix operator and energy functional for this beta\n",
    "        A = lambda v: A_v(L_M, v, beta, h_inv_sq)\n",
    "        calc_E = lambda v: calculate_energy(v, V, beta, h, steps)\n",
    "\n",
    "        print(f\"Starting iteration with bound={bound}, steps={steps}, beta={beta}\")\n",
    "        \n",
    "        success, taken_steps, last, residuum, energy, diffs = algo(\n",
    "            A, calc_E, steps * steps, max_steps, tol\n",
    "        )\n",
    "\n",
    "        if success:\n",
    "            eigenval = last.T @ A(last) @ last / (last.T @ last)\n",
    "            print(f\"Successful iteration: converged in {taken_steps + 1} steps \"\n",
    "                  f\"to eigenvalue ≈ {eigenval:.4f}\")\n",
    "            plot_result(axes, taken_steps, residuum, energy, diffs, beta, colors[i])\n",
    "        else:\n",
    "            print(f\"Iteration failed after {max_steps} steps for beta={beta}!\")\n",
    "            plot_failed_result(axes, max_steps, energy, diffs, beta, 'black')\n",
    "\n",
    "    config_result_plot(fig, axes)\n",
    "    plt.tight_layout()\n",
    "    plt.savefig(file_name, dpi=300)\n",
    "    plt.show()"
   ]
  },
  {
   "cell_type": "markdown",
   "id": "3700152a-a410-4bb8-adb3-15e8ded8bab4",
   "metadata": {},
   "source": [
    "## Testing"
   ]
  },
  {
   "cell_type": "code",
   "execution_count": null,
   "id": "4de0d896-5240-4d42-a324-d4990bfaee28",
   "metadata": {},
   "outputs": [],
   "source": [
    "run_algo(inverse_iteration, 'gpe-inverse-iteration.png')"
   ]
  },
  {
   "cell_type": "code",
   "execution_count": null,
   "id": "20651b57-5824-4677-8bbe-6152d23fb2e7",
   "metadata": {},
   "outputs": [],
   "source": [
    "run_algo(dampened_inverse_iteration, 'gpe-inverse-iteration-dampened.png')"
   ]
  },
  {
   "cell_type": "code",
   "execution_count": null,
   "id": "9510bcff-98bf-4638-8221-0c6b96bf548f",
   "metadata": {},
   "outputs": [],
   "source": [
    "run_algo(shifted_inverse_iteration, 'gpe-inverse-iteration-shifted.png')"
   ]
  },
  {
   "cell_type": "markdown",
   "id": "724e5f96-bd32-471f-93f6-a0cc594c23c9",
   "metadata": {},
   "source": [
    "## Comparision dampened - undampened"
   ]
  },
  {
   "cell_type": "code",
   "execution_count": null,
   "id": "bdfc3cd2-2d74-4d78-9e34-a74ed8c611b3",
   "metadata": {},
   "outputs": [],
   "source": [
    "d_colors = [\"darkgreen\", \"forestgreen\", \"green\", \"limegreen\", \"springgreen\"]\n",
    "u_colors = [\"gold\", \"orange\", \"darkorange\", \"red\", \"darkred\"]\n",
    "\n",
    "fig, axes = plt.subplots(3, 2, figsize=(12, 12))\n",
    "axes = np.array(axes)  # ensure indexing works\n",
    "\n",
    "# Map axes for normal (u) and dampened (d) iterations\n",
    "u_axes = axes[[0,2], :]\n",
    "d_axes = axes[[1,2], :]  # only row 1\n",
    "\n",
    "for i, beta in enumerate(betas):\n",
    "    A = lambda v: A_v(L_M, v, beta, h_inv_sq)\n",
    "    calc_E = lambda v: calculate_energy(v, V, beta, h, steps)\n",
    "\n",
    "    print(f\"Starting with bound={bound}, steps={steps}, beta={beta}\")\n",
    "\n",
    "    u_success, u_taken_steps, u_last, u_residuum, u_energy, u_diffs = inverse_iteration(A, calc_E, steps**2, max_steps, tol)\n",
    "    d_success, d_taken_steps, d_last, d_residuum, d_energy, d_diffs = dampened_inverse_iteration(A, calc_E, steps**2, max_steps, tol)\n",
    "\n",
    "    if u_success and d_success:\n",
    "        print(f\"Normal iteration converged in {u_taken_steps+1} steps; dampened in {d_taken_steps+1}\")\n",
    "        print(f\"Norm difference between results: {norm(u_last - d_last):.4e}\")\n",
    "        plot_result(u_axes, u_taken_steps, u_residuum, u_energy, u_diffs, beta, u_colors[i], label=f\"beta={beta} (normal)\")\n",
    "        plot_result(d_axes, d_taken_steps, d_residuum, d_energy, d_diffs, beta, d_colors[i], label=f\"beta={beta} (dampened)\")\n",
    "    else:\n",
    "        print(f\"Iteration failed: normal={u_success}, dampened={d_success}\")\n",
    "        if u_success:\n",
    "            plot_result(u_axes, u_taken_steps, u_residuum, u_energy, u_diffs, beta, u_colors[i], label=f\"beta={beta} (normal)\")\n",
    "        if d_success:\n",
    "            plot_result(d_axes, d_taken_steps, d_residuum, d_energy, d_diffs, beta, d_colors[i], label=f\"beta={beta} (dampened)\")\n",
    "\n",
    "config_result_plot(fig, u_axes)\n",
    "config_result_plot(fig, d_axes)\n",
    "\n",
    "plt.tight_layout()\n",
    "plt.savefig('gpe-inverse-iteration-comparision.png', dpi=300)\n",
    "plt.show()"
   ]
  },
  {
   "cell_type": "code",
   "execution_count": null,
   "id": "7529e9c3-a1a8-4b9a-8f6a-c9b482c385c2",
   "metadata": {},
   "outputs": [],
   "source": []
  }
 ],
 "metadata": {
  "kernelspec": {
   "display_name": "Python 3 (ipykernel)",
   "language": "python",
   "name": "python3"
  },
  "language_info": {
   "codemirror_mode": {
    "name": "ipython",
    "version": 3
   },
   "file_extension": ".py",
   "mimetype": "text/x-python",
   "name": "python",
   "nbconvert_exporter": "python",
   "pygments_lexer": "ipython3",
   "version": "3.10.13"
  }
 },
 "nbformat": 4,
 "nbformat_minor": 5
}
